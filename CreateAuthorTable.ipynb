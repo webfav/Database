{
    "metadata": {
        "kernelspec": {
            "name": "SQL",
            "display_name": "SQL",
            "language": "sql"
        },
        "language_info": {
            "name": "sql",
            "version": ""
        }
    },
    "nbformat_minor": 2,
    "nbformat": 4,
    "cells": [
        {
            "cell_type": "markdown",
            "source": [
                "16-03-21"
            ],
            "metadata": {
                "azdata_cell_guid": "4701d534-c56f-47d8-8e89-8bf64e259571"
            }
        },
        {
            "cell_type": "markdown",
            "source": [
                "Create a new table called '[Author]' in schema '[dbo]'"
            ],
            "metadata": {
                "azdata_cell_guid": "b4017b0a-d3a4-4c64-a545-b04ff0021711"
            }
        },
        {
            "cell_type": "markdown",
            "source": [
                "Drop the table if it already exists"
            ],
            "metadata": {
                "azdata_cell_guid": "e1fb8585-cda8-40c1-9ccb-f5cd92458d08"
            }
        },
        {
            "cell_type": "code",
            "source": [
                "IF OBJECT_ID('[dbo].[Author]', 'U') IS NOT NULL\n",
                "DROP TABLE [dbo].[Author]"
            ],
            "metadata": {
                "azdata_cell_guid": "83a91732-15a3-420d-bf1e-f5e5cc436cce"
            },
            "outputs": [],
            "execution_count": null
        },
        {
            "cell_type": "markdown",
            "source": [
                "Create the table in the specified schema"
            ],
            "metadata": {
                "azdata_cell_guid": "87802291-2113-4b2e-b372-da00a960d3e5"
            }
        },
        {
            "cell_type": "code",
            "source": [
                "CREATE TABLE [dbo].[Author]\n",
                "(\n",
                "    [Id] INT NOT NULL PRIMARY KEY IDENTITY(1,1), -- Primary Key column\n",
                "    [FirstName] NVARCHAR(50),\n",
                "    [LastName] NVARCHAR(50),\n",
                "    [Email] NVARCHAR(50) UNIQUE,\n",
                "    -- Specify more columns here\n",
                ");"
            ],
            "metadata": {
                "azdata_cell_guid": "7a58f886-ea67-465a-805e-95d01e3314eb"
            },
            "outputs": [],
            "execution_count": null
        }
    ]
}